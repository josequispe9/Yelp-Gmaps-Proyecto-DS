{
 "cells": [
  {
   "cell_type": "code",
   "execution_count": null,
   "id": "de1ab994",
   "metadata": {},
   "outputs": [],
   "source": [
    "#librerias\n",
    "import pandas as pd\n",
    "import json"
   ]
  },
  {
   "cell_type": "code",
   "execution_count": 33,
   "id": "34c83083",
   "metadata": {},
   "outputs": [
    {
     "name": "stdout",
     "output_type": "stream",
     "text": [
      "✅ CSV generado desde JSON en: H:\\git\\proyecto grupal 2\\Yelp-Gmaps-Proyecto-DS\\data\\raw\\departamento salubridad NY\\rows.csv\n",
      "✅ Cabeceras aplicadas a: H:\\git\\proyecto grupal 2\\Yelp-Gmaps-Proyecto-DS\\data\\raw\\departamento salubridad NY\\rows.csv\n",
      "✅ Dataset limpio, normalizado en minúsculas y unido guardado en:\n",
      "H:\\git\\proyecto grupal 2\\Yelp-Gmaps-Proyecto-DS\\data\\processed\\salubridad_merge_yelp.csv\n"
     ]
    }
   ],
   "source": [
    "\"\"\"\n",
    "Aplicamos un etl a los datos descargados de la página de la salud de NYen formato json y los pasamos a formato CSV\n",
    "\"\"\"\n",
    "\n",
    "# Rutas de los archivos JSON y CSV\n",
    "ruta_json = r'H:\\git\\proyecto grupal 2\\Yelp-Gmaps-Proyecto-DS\\data\\raw\\departamento salubridad NY\\rows.json'\n",
    "ruta_csv = r'H:\\git\\proyecto grupal 2\\Yelp-Gmaps-Proyecto-DS\\data\\raw\\departamento salubridad NY\\rows.csv'\n",
    "\n",
    "with open(ruta_json, 'r', encoding='utf-8') as f:\n",
    "    data = json.load(f)\n",
    "\n",
    "# Detectamos la estructura del JSON\n",
    "if isinstance(data, dict) and 'data' in data:\n",
    "    df = pd.DataFrame(data['data'])\n",
    "elif isinstance(data, list):\n",
    "    df = pd.DataFrame(data)\n",
    "else:\n",
    "    raise ValueError(\"❌ Estructura JSON no reconocida\")\n",
    "\n",
    "# Guardamos el DataFrame en un CSV sin cabecera\n",
    "df.to_csv(ruta_csv, index=False, header=False, encoding='utf-8-sig')\n",
    "print(f\"✅ CSV generado desde JSON en: {ruta_csv}\")\n",
    "\n",
    "# Añadimos las cabeceras al archivo CSV\n",
    "columnas_originales = [\n",
    "    \"row_id\", \"uuid\", \"col_1\", \"timestamp_1\", \"col_2\", \"timestamp_2\", \"col_3\", \"json_data\",\n",
    "    \"borough\", \"restaurant_name\", \"location_type\", \"owner\", \"address\", \"inspection_id\",\n",
    "    \"col_4\", \"compliance_status\", \"col_5\", \"inspection_date\", \"agency\", \"zip_code\",\n",
    "    \"latitude\", \"longitude\", \"grade\", \"violation_points\", \"violation_code\", \n",
    "    \"bin\", \"bbl\", \"neighborhood\"\n",
    "]\n",
    "\n",
    "df = pd.read_csv(ruta_csv, header=None, names=columnas_originales, low_memory=False, dtype=str)\n",
    "df.to_csv(ruta_csv, index=False, encoding='utf-8-sig')\n",
    "print(f\"✅ Cabeceras aplicadas a: {ruta_csv}\")\n",
    "\n",
    "# Filtrarmos las columnas relevantes a usar\n",
    "columnas_compatibles = {\n",
    "    \"restaurant_name\": \"nombre\",\n",
    "    \"address\": \"direccion\",\n",
    "    \"borough\": \"ciudad\",\n",
    "    \"zip_code\": \"codigo_postal\",\n",
    "    \"latitude\": \"latitud\",\n",
    "    \"longitude\": \"longitud\",\n",
    "    \"compliance_status\": \"estado_cumplimiento\",\n",
    "    \"inspection_date\": \"fecha_inspeccion\",\n",
    "    \"violation_points\": \"puntos_violacion\",\n",
    "    \"violation_code\": \"codigo_violacion\"\n",
    "}\n",
    "\n",
    "df_final = df[list(columnas_compatibles.keys())].rename(columns=columnas_compatibles)\n",
    "\n",
    "# Normalizamos todos los datos string a minúsculas (sin tocar headers)\n",
    "for col in df_final.columns:\n",
    "    df_final[col] = df_final[col].astype(str).str.lower().str.strip()\n",
    "\n",
    "# Cargamos el archivo de dimensión de nombres de restaurantes\n",
    "ruta_dim = r'H:\\git\\proyecto grupal 2\\Yelp-Gmaps-Proyecto-DS\\data\\processed\\dim\\dim_nombre_restaurante.csv'\n",
    "dim_nombres = pd.read_csv(ruta_dim)\n",
    "\n",
    "# Normalizamos 'nombre' en dimensión para que coincida\n",
    "dim_nombres['nombre'] = dim_nombres['nombre'].astype(str).str.lower().str.strip()\n",
    "\n",
    "# Eliminamos valores nulos y duplicados\n",
    "df_final = df_final[df_final['nombre'].notna() & (df_final['nombre'].str.strip() != '')]\n",
    "df_final = df_final.merge(dim_nombres, on='nombre', how='left')\n",
    "\n",
    "# Ordenamos las columnas\n",
    "orden_final = [\n",
    "    'id_nombre', 'nombre', 'direccion', 'ciudad', 'codigo_postal',\n",
    "    'latitud', 'longitud', 'estado_cumplimiento',\n",
    "    'fecha_inspeccion', 'puntos_violacion', 'codigo_violacion'\n",
    "]\n",
    "df_final = df_final[orden_final]\n",
    "\n",
    "# Guardamos el dataset limpio en un archivo CSV\n",
    "ruta_salida = r'H:\\git\\proyecto grupal 2\\Yelp-Gmaps-Proyecto-DS\\data\\processed\\salubridad_merge_yelp.csv'\n",
    "df_final.to_csv(ruta_salida, index=False, encoding='utf-8-sig')\n",
    "\n",
    "print(f\"✅ Dataset limpio, normalizado en minúsculas y unido guardado en:\\n{ruta_salida}\")\n",
    "\n"
   ]
  }
 ],
 "metadata": {
  "kernelspec": {
   "display_name": "venv",
   "language": "python",
   "name": "python3"
  },
  "language_info": {
   "codemirror_mode": {
    "name": "ipython",
    "version": 3
   },
   "file_extension": ".py",
   "mimetype": "text/x-python",
   "name": "python",
   "nbconvert_exporter": "python",
   "pygments_lexer": "ipython3",
   "version": "3.13.1"
  }
 },
 "nbformat": 4,
 "nbformat_minor": 5
}
