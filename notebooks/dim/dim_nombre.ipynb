{
 "cells": [
  {
   "cell_type": "code",
   "execution_count": 11,
   "id": "52b46875",
   "metadata": {},
   "outputs": [
    {
     "name": "stdout",
     "output_type": "stream",
     "text": [
      "✅ Nombres guardados en minúsculas y IDs generados correctamente.\n",
      "📁 Archivo listo en:\n",
      "H:\\git\\proyecto grupal 2\\Yelp-Gmaps-Proyecto-DS\\data\\processed\\dim\\dim_nombre_restaurante.csv\n"
     ]
    },
    {
     "name": "stderr",
     "output_type": "stream",
     "text": [
      "C:\\Users\\jrgsi\\AppData\\Local\\Temp\\ipykernel_13432\\1805473131.py:24: DtypeWarning: Columns (3,4,5,8,9) have mixed types. Specify dtype option on import or set low_memory=False.\n",
      "  df = pd.read_csv(ruta_csv)\n"
     ]
    }
   ],
   "source": [
    "import pandas as pd\n",
    "import hashlib\n",
    "import unicodedata\n",
    "\n",
    "# 🎯 Función para generar ID hash base36 de 6 caracteres\n",
    "def generar_id_hash(texto):\n",
    "    h = hashlib.md5(texto.encode('utf-8')).hexdigest()\n",
    "    base10 = int(h, 16)\n",
    "    base36 = ''\n",
    "    chars = '0123456789ABCDEFGHIJKLMNOPQRSTUVWXYZ'\n",
    "    while base10 > 0:\n",
    "        base10, i = divmod(base10, 36)\n",
    "        base36 = chars[i] + base36\n",
    "    return base36[:6].upper().zfill(6)\n",
    "\n",
    "# 🔧 Normaliza (quita tildes, espacios y convierte a minúsculas)\n",
    "def normalizar(texto):\n",
    "    texto = str(texto).lower().strip()\n",
    "    texto = unicodedata.normalize('NFKD', texto).encode('ascii', 'ignore').decode('utf-8')\n",
    "    return texto\n",
    "\n",
    "# 🗂 Ruta del CSV\n",
    "ruta_csv = r'H:\\git\\proyecto grupal 2\\Yelp-Gmaps-Proyecto-DS\\data\\raw\\departamento salubridad NY\\rows2.csv'\n",
    "df = pd.read_csv(ruta_csv)\n",
    "\n",
    "# 🔍 Extraer nombres únicos\n",
    "nombres_originales = df['nombre'].dropna().drop_duplicates().sort_values().reset_index(drop=True)\n",
    "\n",
    "# 🧼 Guardar los nombres normalizados (minúsculas + sin acento)\n",
    "nombres_minusculas = nombres_originales.apply(lambda x: normalizar(x))\n",
    "\n",
    "# 🔐 Generar los IDs hash desde los nombres normalizados\n",
    "ids_hash = nombres_minusculas.apply(generar_id_hash)\n",
    "\n",
    "# 🧱 Construir la tabla dimensión con los nombres ya en minúsculas\n",
    "dim_nombres = pd.DataFrame({\n",
    "    'id_nombre': ids_hash,\n",
    "    'nombre': nombres_minusculas  # AQUÍ se guardan ya en minúsculas\n",
    "})\n",
    "\n",
    "# 💾 Guardar\n",
    "ruta_salida = r'H:\\git\\proyecto grupal 2\\Yelp-Gmaps-Proyecto-DS\\data\\processed\\dim\\dim_nombre_restaurante.csv'\n",
    "dim_nombres.to_csv(ruta_salida, index=False, encoding='utf-8-sig')\n",
    "\n",
    "print(f\"✅ Nombres guardados en minúsculas y IDs generados correctamente.\\n📁 Archivo listo en:\\n{ruta_salida}\")\n",
    "\n"
   ]
  },
  {
   "cell_type": "code",
   "execution_count": null,
   "id": "4a6f535f",
   "metadata": {},
   "outputs": [],
   "source": [
    "\"\"\" \n",
    "Revisamos duplicados en la dimensión de nombre de restaurante y eliminamos los duplicados.\n",
    "\"\"\"\n",
    "import pandas as pd\n",
    "\n",
    "\n",
    "ruta_original = r'H:\\git\\proyecto grupal 2\\Yelp-Gmaps-Proyecto-DS\\data\\processed\\dim\\dim_nombre_restaurante_actualizada.csv'\n",
    "\n",
    "ruta_limpia = r'H:\\git\\proyecto grupal 2\\Yelp-Gmaps-Proyecto-DS\\data\\processed\\dim\\dim_nombre_restaurante_limpia.csv'\n",
    "\n",
    "df = pd.read_csv(ruta_original)\n",
    "\n",
    "df_limpio = df.drop_duplicates(subset='nombre', keep='first')\n",
    "\n",
    "df_limpio.to_csv(ruta_limpia, index=False, encoding='utf-8-sig')\n",
    "\n",
    "print(f\"Dimensión limpia guardada sin duplicados en:\\n{ruta_limpia}\")\n",
    "print(f\"Se eliminaron {len(df) - len(df_limpio)} duplicados.\")"
   ]
  }
 ],
 "metadata": {
  "kernelspec": {
   "display_name": "venv",
   "language": "python",
   "name": "python3"
  },
  "language_info": {
   "codemirror_mode": {
    "name": "ipython",
    "version": 3
   },
   "file_extension": ".py",
   "mimetype": "text/x-python",
   "name": "python",
   "nbconvert_exporter": "python",
   "pygments_lexer": "ipython3",
   "version": "3.13.1"
  }
 },
 "nbformat": 4,
 "nbformat_minor": 5
}
