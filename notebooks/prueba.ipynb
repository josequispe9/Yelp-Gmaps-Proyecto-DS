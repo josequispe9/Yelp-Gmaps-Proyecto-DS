{
 "cells": [
  {
   "cell_type": "code",
   "execution_count": 3,
   "id": "2f9c2823",
   "metadata": {},
   "outputs": [
    {
     "name": "stdout",
     "output_type": "stream",
     "text": [
      "C:\\Users\\franc\\Google Drive\\Project_gourmet_advisor\\data\\interim\n"
     ]
    }
   ],
   "source": [
    "import sys\n",
    "import os\n",
    "\n",
    "# Agregar la ruta raíz al sys.path\n",
    "sys.path.append(os.path.abspath(\"..\"))\n",
    "\n",
    "# Ahora puedes importar el módulo\n",
    "import config"
   ]
  },
  {
   "cell_type": "code",
   "execution_count": 4,
   "id": "7b6206df",
   "metadata": {},
   "outputs": [],
   "source": [
    "from config import interim_path"
   ]
  },
  {
   "cell_type": "code",
   "execution_count": 7,
   "id": "b32bdd66",
   "metadata": {},
   "outputs": [
    {
     "data": {
      "text/plain": [
       "'C:\\\\Users\\\\franc\\\\Google Drive\\\\Project_gourmet_advisor\\\\data\\\\interim'"
      ]
     },
     "execution_count": 7,
     "metadata": {},
     "output_type": "execute_result"
    }
   ],
   "source": [
    "interim_path"
   ]
  },
  {
   "cell_type": "code",
   "execution_count": null,
   "id": "2ad4b718",
   "metadata": {},
   "outputs": [
    {
     "name": "stdout",
     "output_type": "stream",
     "text": [
      "Archivos en la carpeta:\n",
      "restaurantes_osm_desde_centros.csv\n",
      "gmaps_negocios_eeuu.parquet\n",
      "gmaps_reviews_eeuu.parquet\n",
      "gmaps_reviews_NYC.parquet\n",
      "desktop.ini\n"
     ]
    }
   ],
   "source": [
    "import os\n",
    "\n",
    "ruta_carpeta = r\"G:\\.shortcut-targets-by-id\\1NBIAK9Hrfv_XXtchKZZvUS4b7TdyTLIT\\Project_gourmet_advisor\\interim\"\n",
    "\n",
    "archivos = os.listdir(ruta_carpeta)\n",
    "print(\"Archivos en la carpeta:\")\n",
    "for archivo in archivos:\n",
    "    print(archivo)"
   ]
  },
  {
   "cell_type": "code",
   "execution_count": 15,
   "id": "b5a23188",
   "metadata": {},
   "outputs": [
    {
     "name": "stdout",
     "output_type": "stream",
     "text": [
      "Archivos en la carpeta:\n",
      "gmaps_negocios_eeuu.parquet\n",
      "gmaps_reviews_eeuu.parquet\n",
      "gmaps_reviews_NYC.parquet\n",
      "desktop.ini\n"
     ]
    }
   ],
   "source": [
    "archivo = \"restaurantes_osm_desde_centros.csv\"\n",
    "\n",
    "ruta_completa = os.path.join(ruta_carpeta, archivo)\n",
    "\n",
    "os.remove(ruta_completa)\n",
    "\n",
    "archivos = os.listdir(ruta_carpeta)\n",
    "print(\"Archivos en la carpeta:\")\n",
    "for archivo in archivos:\n",
    "    print(archivo)"
   ]
  }
 ],
 "metadata": {
  "kernelspec": {
   "display_name": "venv",
   "language": "python",
   "name": "python3"
  },
  "language_info": {
   "codemirror_mode": {
    "name": "ipython",
    "version": 3
   },
   "file_extension": ".py",
   "mimetype": "text/x-python",
   "name": "python",
   "nbconvert_exporter": "python",
   "pygments_lexer": "ipython3",
   "version": "3.12.0"
  }
 },
 "nbformat": 4,
 "nbformat_minor": 5
}
