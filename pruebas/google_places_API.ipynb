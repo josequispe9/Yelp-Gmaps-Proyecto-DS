{
 "cells": [
  {
   "cell_type": "markdown",
   "metadata": {},
   "source": [
    "## Google places API\n",
    "\n",
    "En este codigo se obtienen todas la informacion relevante (ubicacion, puntuacion, reseñas, etc) de los restaurantes de NY para su posterior analisis. \n",
    "\n",
    "Se emplea una tecnica de division hexagonal y paginacion para extraer todos los posibles resultados. Finalmente se eliminan los duplicados generados por solapamiento en la busqueda"
   ]
  },
  {
   "cell_type": "markdown",
   "metadata": {},
   "source": [
    "### Librerias necesarias\n",
    "h3 pandas requests tqdm python-dotenv"
   ]
  },
  {
   "cell_type": "code",
   "execution_count": 4,
   "metadata": {},
   "outputs": [],
   "source": [
    "import h3\n",
    "import requests\n",
    "import pandas as pd\n",
    "from tqdm import tqdm\n",
    "import time\n",
    "from dotenv import load_dotenv\n",
    "import os"
   ]
  },
  {
   "cell_type": "code",
   "execution_count": 8,
   "metadata": {},
   "outputs": [],
   "source": [
    "load_dotenv()\n",
    "API_KEY = os.getenv('../.env/GOOGLE_API_KEY')\n"
   ]
  },
  {
   "cell_type": "code",
   "execution_count": 6,
   "metadata": {},
   "outputs": [],
   "source": [
    "# Área aproximada de NYC en coordenadas (latitud, longitud)\n",
    "NYC_BOUNDS = {\n",
    "    'north': 40.9176,\n",
    "    'south': 40.4774,\n",
    "    'west': -74.2591,\n",
    "    'east': -73.7004\n",
    "}\n",
    "\n",
    "H3_RESOLUTION = 9"
   ]
  },
  {
   "cell_type": "code",
   "execution_count": 7,
   "metadata": {},
   "outputs": [],
   "source": [
    "# Función para generar hexágonos en NYC\n",
    "def generate_hexagons(bounds, resolution):\n",
    "    lat_min, lat_max = bounds['south'], bounds['north']\n",
    "    lon_min, lon_max = bounds['west'], bounds['east']\n",
    "    step = 0.01  # para escanear puntos dentro del área\n",
    "    hexes = set()\n",
    "\n",
    "    lat = lat_min\n",
    "    while lat < lat_max:\n",
    "        lon = lon_min\n",
    "        while lon < lon_max:\n",
    "            hex_id = h3.geo_to_h3(lat, lon, resolution)\n",
    "            hexes.add(hex_id)\n",
    "            lon += step\n",
    "        lat += step\n",
    "    return list(hexes)"
   ]
  }
 ],
 "metadata": {
  "kernelspec": {
   "display_name": "venv",
   "language": "python",
   "name": "python3"
  },
  "language_info": {
   "codemirror_mode": {
    "name": "ipython",
    "version": 3
   },
   "file_extension": ".py",
   "mimetype": "text/x-python",
   "name": "python",
   "nbconvert_exporter": "python",
   "pygments_lexer": "ipython3",
   "version": "3.12.4"
  }
 },
 "nbformat": 4,
 "nbformat_minor": 2
}
